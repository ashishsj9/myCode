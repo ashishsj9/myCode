{
 "cells": [
  {
   "cell_type": "code",
   "execution_count": 49,
   "metadata": {
    "scrolled": false
   },
   "outputs": [
    {
     "data": {
      "text/plain": [
       "'Success'"
      ]
     },
     "execution_count": 49,
     "metadata": {},
     "output_type": "execute_result"
    }
   ],
   "source": [
    "import os\n",
    "import sys\n",
    "\n",
    "from pdf2image import convert_from_path\n",
    "\n",
    "def convertPDF(pdf_file):\n",
    "    try:\n",
    "        if pdf_file.endswith(\".pdf\"):\n",
    "            pages = convert_from_path(pdf_file, 300)\n",
    "            pdf_file = pdf_file[:-4]\n",
    "            for page in pages:\n",
    "                page.save(\"%s-page%d.jpeg\" % (pdf_file,pages.index(page)+1), \"JPEG\")\n",
    "            return(\"Success\")\n",
    "        else:\n",
    "            return(\"Given input is not an pdf\")\n",
    "    except PDFPageCountError as error:\n",
    "        print(\"unable to convert pdf to image\"+error)\n",
    "         \n",
    "convertPDF(\"/Users/ashishjhade/Desktop/Profile.pdf\")"
   ]
  }
 ],
 "metadata": {
  "kernelspec": {
   "display_name": "Python 3",
   "language": "python",
   "name": "python3"
  },
  "language_info": {
   "codemirror_mode": {
    "name": "ipython",
    "version": 3
   },
   "file_extension": ".py",
   "mimetype": "text/x-python",
   "name": "python",
   "nbconvert_exporter": "python",
   "pygments_lexer": "ipython3",
   "version": "3.7.6"
  }
 },
 "nbformat": 4,
 "nbformat_minor": 2
}
